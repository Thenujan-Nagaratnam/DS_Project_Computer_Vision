{
 "cells": [
  {
   "cell_type": "code",
   "execution_count": 1,
   "id": "eb30885e",
   "metadata": {
    "execution": {
     "iopub.execute_input": "2023-10-19T07:01:46.986342Z",
     "iopub.status.busy": "2023-10-19T07:01:46.985429Z",
     "iopub.status.idle": "2023-10-19T07:02:00.094284Z",
     "shell.execute_reply": "2023-10-19T07:02:00.093377Z"
    },
    "papermill": {
     "duration": 13.117847,
     "end_time": "2023-10-19T07:02:00.096459",
     "exception": false,
     "start_time": "2023-10-19T07:01:46.978612",
     "status": "completed"
    },
    "tags": []
   },
   "outputs": [
    {
     "name": "stdout",
     "output_type": "stream",
     "text": [
      "Collecting open-clip-torch\r\n",
      "  Downloading open_clip_torch-2.22.0-py3-none-any.whl (1.5 MB)\r\n",
      "\u001b[2K     \u001b[90m━━━━━━━━━━━━━━━━━━━━━━━━━━━━━━━━━━━━━━━━\u001b[0m \u001b[32m1.5/1.5 MB\u001b[0m \u001b[31m20.4 MB/s\u001b[0m eta \u001b[36m0:00:00\u001b[0m\r\n",
      "\u001b[?25hCollecting faiss-gpu\r\n",
      "  Downloading faiss_gpu-1.7.2-cp310-cp310-manylinux_2_17_x86_64.manylinux2014_x86_64.whl (85.5 MB)\r\n",
      "\u001b[2K     \u001b[90m━━━━━━━━━━━━━━━━━━━━━━━━━━━━━━━━━━━━━━━━\u001b[0m \u001b[32m85.5/85.5 MB\u001b[0m \u001b[31m12.9 MB/s\u001b[0m eta \u001b[36m0:00:00\u001b[0m\r\n",
      "\u001b[?25hRequirement already satisfied: torch>=1.9.0 in /opt/conda/lib/python3.10/site-packages (from open-clip-torch) (2.0.0)\r\n",
      "Requirement already satisfied: torchvision in /opt/conda/lib/python3.10/site-packages (from open-clip-torch) (0.15.1)\r\n",
      "Requirement already satisfied: regex in /opt/conda/lib/python3.10/site-packages (from open-clip-torch) (2023.6.3)\r\n",
      "Collecting ftfy (from open-clip-torch)\r\n",
      "  Downloading ftfy-6.1.1-py3-none-any.whl (53 kB)\r\n",
      "\u001b[2K     \u001b[90m━━━━━━━━━━━━━━━━━━━━━━━━━━━━━━━━━━━━━━━━\u001b[0m \u001b[32m53.1/53.1 kB\u001b[0m \u001b[31m4.6 MB/s\u001b[0m eta \u001b[36m0:00:00\u001b[0m\r\n",
      "\u001b[?25hRequirement already satisfied: tqdm in /opt/conda/lib/python3.10/site-packages (from open-clip-torch) (4.66.1)\r\n",
      "Requirement already satisfied: huggingface-hub in /opt/conda/lib/python3.10/site-packages (from open-clip-torch) (0.16.4)\r\n",
      "Requirement already satisfied: sentencepiece in /opt/conda/lib/python3.10/site-packages (from open-clip-torch) (0.1.99)\r\n",
      "Requirement already satisfied: protobuf<4 in /opt/conda/lib/python3.10/site-packages (from open-clip-torch) (3.20.3)\r\n",
      "Requirement already satisfied: timm in /opt/conda/lib/python3.10/site-packages (from open-clip-torch) (0.9.7)\r\n",
      "Requirement already satisfied: filelock in /opt/conda/lib/python3.10/site-packages (from torch>=1.9.0->open-clip-torch) (3.12.2)\r\n",
      "Requirement already satisfied: typing-extensions in /opt/conda/lib/python3.10/site-packages (from torch>=1.9.0->open-clip-torch) (4.6.3)\r\n",
      "Requirement already satisfied: sympy in /opt/conda/lib/python3.10/site-packages (from torch>=1.9.0->open-clip-torch) (1.12)\r\n",
      "Requirement already satisfied: networkx in /opt/conda/lib/python3.10/site-packages (from torch>=1.9.0->open-clip-torch) (3.1)\r\n",
      "Requirement already satisfied: jinja2 in /opt/conda/lib/python3.10/site-packages (from torch>=1.9.0->open-clip-torch) (3.1.2)\r\n",
      "Requirement already satisfied: wcwidth>=0.2.5 in /opt/conda/lib/python3.10/site-packages (from ftfy->open-clip-torch) (0.2.6)\r\n",
      "Requirement already satisfied: fsspec in /opt/conda/lib/python3.10/site-packages (from huggingface-hub->open-clip-torch) (2023.9.0)\r\n",
      "Requirement already satisfied: requests in /opt/conda/lib/python3.10/site-packages (from huggingface-hub->open-clip-torch) (2.31.0)\r\n",
      "Requirement already satisfied: pyyaml>=5.1 in /opt/conda/lib/python3.10/site-packages (from huggingface-hub->open-clip-torch) (6.0)\r\n",
      "Requirement already satisfied: packaging>=20.9 in /opt/conda/lib/python3.10/site-packages (from huggingface-hub->open-clip-torch) (21.3)\r\n",
      "Requirement already satisfied: safetensors in /opt/conda/lib/python3.10/site-packages (from timm->open-clip-torch) (0.3.3)\r\n",
      "Requirement already satisfied: numpy in /opt/conda/lib/python3.10/site-packages (from torchvision->open-clip-torch) (1.23.5)\r\n",
      "Requirement already satisfied: pillow!=8.3.*,>=5.3.0 in /opt/conda/lib/python3.10/site-packages (from torchvision->open-clip-torch) (9.5.0)\r\n",
      "Requirement already satisfied: pyparsing!=3.0.5,>=2.0.2 in /opt/conda/lib/python3.10/site-packages (from packaging>=20.9->huggingface-hub->open-clip-torch) (3.0.9)\r\n",
      "Requirement already satisfied: MarkupSafe>=2.0 in /opt/conda/lib/python3.10/site-packages (from jinja2->torch>=1.9.0->open-clip-torch) (2.1.3)\r\n",
      "Requirement already satisfied: charset-normalizer<4,>=2 in /opt/conda/lib/python3.10/site-packages (from requests->huggingface-hub->open-clip-torch) (3.1.0)\r\n",
      "Requirement already satisfied: idna<4,>=2.5 in /opt/conda/lib/python3.10/site-packages (from requests->huggingface-hub->open-clip-torch) (3.4)\r\n",
      "Requirement already satisfied: urllib3<3,>=1.21.1 in /opt/conda/lib/python3.10/site-packages (from requests->huggingface-hub->open-clip-torch) (1.26.15)\r\n",
      "Requirement already satisfied: certifi>=2017.4.17 in /opt/conda/lib/python3.10/site-packages (from requests->huggingface-hub->open-clip-torch) (2023.7.22)\r\n",
      "Requirement already satisfied: mpmath>=0.19 in /opt/conda/lib/python3.10/site-packages (from sympy->torch>=1.9.0->open-clip-torch) (1.3.0)\r\n",
      "Installing collected packages: faiss-gpu, ftfy, open-clip-torch\r\n",
      "Successfully installed faiss-gpu-1.7.2 ftfy-6.1.1 open-clip-torch-2.22.0\r\n"
     ]
    }
   ],
   "source": [
    "# #Setup Gdrive file download extention\n",
    "!pip install open-clip-torch faiss-gpu"
   ]
  },
  {
   "cell_type": "code",
   "execution_count": 2,
   "id": "8d116e49",
   "metadata": {
    "execution": {
     "iopub.execute_input": "2023-10-19T07:02:00.110974Z",
     "iopub.status.busy": "2023-10-19T07:02:00.110485Z",
     "iopub.status.idle": "2023-10-19T07:02:00.114475Z",
     "shell.execute_reply": "2023-10-19T07:02:00.113839Z"
    },
    "papermill": {
     "duration": 0.012703,
     "end_time": "2023-10-19T07:02:00.116003",
     "exception": false,
     "start_time": "2023-10-19T07:02:00.103300",
     "status": "completed"
    },
    "tags": []
   },
   "outputs": [],
   "source": [
    "# !gdown --id 1BFAJfzzeaUGsPoYELS86HIutJ43D-vat"
   ]
  },
  {
   "cell_type": "code",
   "execution_count": 3,
   "id": "e1aab818",
   "metadata": {
    "execution": {
     "iopub.execute_input": "2023-10-19T07:02:00.129095Z",
     "iopub.status.busy": "2023-10-19T07:02:00.128883Z",
     "iopub.status.idle": "2023-10-19T07:02:08.158677Z",
     "shell.execute_reply": "2023-10-19T07:02:08.157831Z"
    },
    "papermill": {
     "duration": 8.03863,
     "end_time": "2023-10-19T07:02:08.160741",
     "exception": false,
     "start_time": "2023-10-19T07:02:00.122111",
     "status": "completed"
    },
    "tags": []
   },
   "outputs": [],
   "source": [
    "import os\n",
    "import math\n",
    "\n",
    "import numpy as np\n",
    "\n",
    "import torch as th\n",
    "import torch.nn as nn\n",
    "import torch.nn.functional as F\n",
    "import open_clip\n",
    "\n",
    "from torch.utils.data import Dataset\n",
    "from torch.utils.data import DataLoader\n",
    "\n",
    "import torchvision.transforms as T\n",
    "\n",
    "from tqdm import tqdm\n",
    "import pandas as pd\n",
    "import cv2\n",
    "from PIL import Image\n",
    "import time\n",
    "import faiss\n",
    "import copy"
   ]
  },
  {
   "cell_type": "code",
   "execution_count": 4,
   "id": "7f09c0ad",
   "metadata": {
    "execution": {
     "iopub.execute_input": "2023-10-19T07:02:08.175664Z",
     "iopub.status.busy": "2023-10-19T07:02:08.175233Z",
     "iopub.status.idle": "2023-10-19T07:02:08.179352Z",
     "shell.execute_reply": "2023-10-19T07:02:08.178340Z"
    },
    "papermill": {
     "duration": 0.013407,
     "end_time": "2023-10-19T07:02:08.181284",
     "exception": false,
     "start_time": "2023-10-19T07:02:08.167877",
     "status": "completed"
    },
    "tags": []
   },
   "outputs": [],
   "source": [
    "# import torchvision.models as models\n",
    "\n",
    "# # List some of the available pretrained models\n",
    "# pretrained_models = dir(models)\n",
    "# print(pretrained_models)"
   ]
  },
  {
   "cell_type": "code",
   "execution_count": 5,
   "id": "a9c4e514",
   "metadata": {
    "execution": {
     "iopub.execute_input": "2023-10-19T07:02:08.195160Z",
     "iopub.status.busy": "2023-10-19T07:02:08.194928Z",
     "iopub.status.idle": "2023-10-19T07:02:08.203708Z",
     "shell.execute_reply": "2023-10-19T07:02:08.202835Z"
    },
    "papermill": {
     "duration": 0.017575,
     "end_time": "2023-10-19T07:02:08.205384",
     "exception": false,
     "start_time": "2023-10-19T07:02:08.187809",
     "status": "completed"
    },
    "tags": []
   },
   "outputs": [],
   "source": [
    "import argparse\n",
    "\n",
    "import numpy as np\n",
    "import pandas as pd\n",
    "\n",
    "from tqdm import tqdm\n",
    "\n",
    "\n",
    "def compute_precision_at_k(ranked_targets: np.ndarray,\n",
    "                           k: int) -> float:\n",
    "\n",
    "    \"\"\"\n",
    "    Computes the precision at k.\n",
    "    Args:\n",
    "        ranked_targets: A boolean array of retrieved targets, True if relevant and False otherwise.\n",
    "        k: The number of examples to consider\n",
    "\n",
    "    Returns: The precision at k\n",
    "    \"\"\"\n",
    "    assert k >= 1\n",
    "    assert ranked_targets.size >= k, ValueError('Relevance score length < k')\n",
    "    return np.mean(ranked_targets[:k])\n",
    "\n",
    "def compute_average_precision(ranked_targets: np.ndarray,\n",
    "                              gtp: int) -> float:\n",
    "    \n",
    "        \n",
    "    \"\"\"\n",
    "    Computes the average precision.\n",
    "    Args:\n",
    "        ranked_targets: A boolean array of retrieved targets, True if relevant and False otherwise.\n",
    "        gtp: ground truth positives.\n",
    "\n",
    "    Returns:\n",
    "        The average precision.\n",
    "    \"\"\"\n",
    "    assert gtp >= 1\n",
    "    # compute precision at rank only for positive targets\n",
    "    out = [compute_precision_at_k(ranked_targets, k + 1) for k in range(ranked_targets.size) if ranked_targets[k]]\n",
    "    if len(out) == 0:\n",
    "        # no relevant targets in top1000 results\n",
    "        return 0.0\n",
    "    else:\n",
    "        return np.sum(out) / gtp\n",
    "\n",
    "\n",
    "def calculate_map(ranked_retrieval_results: np.ndarray,\n",
    "                  query_labels: np.ndarray,\n",
    "                  gallery_labels: np.ndarray) -> float:\n",
    "    \n",
    "    global current_retrievals, gpt\n",
    "    \n",
    "    \"\"\"\n",
    "    Calculates the mean average precision.\n",
    "    Args:\n",
    "        ranked_retrieval_results: A 2D array of ranked retrieval results (shape: n_queries x 1000), because we use\n",
    "                                top1000 retrieval results.\n",
    "        query_labels: A 1D array of query class labels (shape: n_queries).\n",
    "        gallery_labels: A 1D array of gallery class labels (shape: n_gallery_items).\n",
    "    Returns:\n",
    "        The mean average precision.\n",
    "    \"\"\"\n",
    "    assert ranked_retrieval_results.ndim == 2\n",
    "    assert ranked_retrieval_results.shape[1] == 1000\n",
    "\n",
    "    class_average_precisions = []\n",
    "    current_retrievals = []\n",
    "\n",
    "    class_ids, class_counts = np.unique(gallery_labels, return_counts=True)\n",
    "    class_id2quantity_dict = dict(zip(class_ids, class_counts))\n",
    "    for gallery_indices, query_class_id in tqdm(\n",
    "                            zip(ranked_retrieval_results, query_labels),\n",
    "                            total=len(query_labels)):\n",
    "        # Checking that no image is repeated in the retrival results\n",
    "        assert len(np.unique(gallery_indices)) == len(gallery_indices), \\\n",
    "                    ValueError('Repeated images in retrieval results')\n",
    "\n",
    "        current_retrieval = gallery_labels[gallery_indices] == query_class_id\n",
    "        gpt = class_id2quantity_dict[query_class_id]\n",
    "        \n",
    "        current_retrievals.append(current_retrieval)\n",
    "\n",
    "        class_average_precisions.append(\n",
    "            compute_average_precision(current_retrieval, gpt)\n",
    "        )\n",
    "\n",
    "    mean_average_precision = np.mean(class_average_precisions)\n",
    "    return mean_average_precision"
   ]
  },
  {
   "cell_type": "code",
   "execution_count": 6,
   "id": "642cd9a7",
   "metadata": {
    "execution": {
     "iopub.execute_input": "2023-10-19T07:02:08.219648Z",
     "iopub.status.busy": "2023-10-19T07:02:08.219177Z",
     "iopub.status.idle": "2023-10-19T07:02:08.224602Z",
     "shell.execute_reply": "2023-10-19T07:02:08.223847Z"
    },
    "papermill": {
     "duration": 0.014155,
     "end_time": "2023-10-19T07:02:08.226159",
     "exception": false,
     "start_time": "2023-10-19T07:02:08.212004",
     "status": "completed"
    },
    "tags": []
   },
   "outputs": [],
   "source": [
    "import numpy as np\n",
    "import time\n",
    "\n",
    "def calculate_l2_distances(query, gallery):\n",
    "    return np.linalg.norm(gallery - query, axis=1)\n",
    "\n",
    "def get_k_nearest_neighbors(distances, k):\n",
    "    indices = np.argsort(distances)[:k]\n",
    "    return indices\n",
    "\n",
    "def get_similiarity_l2(embeddings_gallery, embeddings_query, k):\n",
    "    print('Processing indices...')\n",
    "\n",
    "    s = time.time()\n",
    "\n",
    "    scores = []\n",
    "    indices = []\n",
    "\n",
    "    for query in embeddings_query:\n",
    "        distances = calculate_l2_distances(query, embeddings_gallery)\n",
    "        nearest_indices = get_k_nearest_neighbors(distances, k)\n",
    "        scores.append(distances[nearest_indices])\n",
    "        indices.append(nearest_indices)\n",
    "\n",
    "    e = time.time()\n",
    "\n",
    "    print(f'Finished processing indices, took {e - s}s')\n",
    "    return np.array(scores), np.array(indices)"
   ]
  },
  {
   "cell_type": "code",
   "execution_count": 7,
   "id": "4887f2ca",
   "metadata": {
    "execution": {
     "iopub.execute_input": "2023-10-19T07:02:08.239240Z",
     "iopub.status.busy": "2023-10-19T07:02:08.239031Z",
     "iopub.status.idle": "2023-10-19T07:02:08.242761Z",
     "shell.execute_reply": "2023-10-19T07:02:08.242156Z"
    },
    "papermill": {
     "duration": 0.012073,
     "end_time": "2023-10-19T07:02:08.244388",
     "exception": false,
     "start_time": "2023-10-19T07:02:08.232315",
     "status": "completed"
    },
    "tags": []
   },
   "outputs": [],
   "source": [
    "def convert_indices_to_labels(indices, labels):\n",
    "    indices_copy = copy.deepcopy(indices)\n",
    "    for row in indices_copy:\n",
    "        for j in range(len(row)):\n",
    "            row[j] = labels[row[j]]\n",
    "    return indices_copy"
   ]
  },
  {
   "cell_type": "code",
   "execution_count": 8,
   "id": "93a9779e",
   "metadata": {
    "execution": {
     "iopub.execute_input": "2023-10-19T07:02:08.257310Z",
     "iopub.status.busy": "2023-10-19T07:02:08.257085Z",
     "iopub.status.idle": "2023-10-19T07:02:08.361814Z",
     "shell.execute_reply": "2023-10-19T07:02:08.360937Z"
    },
    "papermill": {
     "duration": 0.113212,
     "end_time": "2023-10-19T07:02:08.363655",
     "exception": false,
     "start_time": "2023-10-19T07:02:08.250443",
     "status": "completed"
    },
    "tags": []
   },
   "outputs": [],
   "source": [
    "device = 'cuda' if th.cuda.is_available() else 'cpu';"
   ]
  },
  {
   "cell_type": "markdown",
   "id": "1a3f9524",
   "metadata": {
    "papermill": {
     "duration": 0.006268,
     "end_time": "2023-10-19T07:02:08.376894",
     "exception": false,
     "start_time": "2023-10-19T07:02:08.370626",
     "status": "completed"
    },
    "tags": []
   },
   "source": [
    "# Reading Dataset"
   ]
  },
  {
   "cell_type": "code",
   "execution_count": 9,
   "id": "84b4808e",
   "metadata": {
    "execution": {
     "iopub.execute_input": "2023-10-19T07:02:08.390291Z",
     "iopub.status.busy": "2023-10-19T07:02:08.390022Z",
     "iopub.status.idle": "2023-10-19T07:02:08.396945Z",
     "shell.execute_reply": "2023-10-19T07:02:08.396069Z"
    },
    "papermill": {
     "duration": 0.01563,
     "end_time": "2023-10-19T07:02:08.398582",
     "exception": false,
     "start_time": "2023-10-19T07:02:08.382952",
     "status": "completed"
    },
    "tags": []
   },
   "outputs": [],
   "source": [
    "def read_image(image_file):\n",
    "    img = cv2.imread(\n",
    "        image_file, cv2.IMREAD_COLOR | cv2.IMREAD_IGNORE_ORIENTATION\n",
    "    )\n",
    "    img = cv2.cvtColor(img, cv2.COLOR_BGR2RGB)\n",
    "    if img is None:\n",
    "        raise ValueError('Failed to read {}'.format(image_file))\n",
    "    return img\n",
    "\n",
    "\n",
    "class SubmissionDataset(Dataset):\n",
    "    def __init__(self, root, annotation_file, transforms, with_bbox=False):\n",
    "        self.root = root\n",
    "        self.imlist = pd.read_csv(annotation_file)\n",
    "        self.transforms = transforms\n",
    "        self.with_bbox = with_bbox\n",
    "\n",
    "    def __getitem__(self, index):\n",
    "        cv2.setNumThreads(6)\n",
    "\n",
    "        full_imname = os.path.join(self.root, self.imlist['img_path'][index])\n",
    "        img = read_image(full_imname)\n",
    "\n",
    "        if self.with_bbox:\n",
    "            x, y, w, h = self.imlist.loc[index, 'bbox_x':'bbox_h']\n",
    "            img = img[y:y+h, x:x+w, :]\n",
    "\n",
    "        img = Image.fromarray(img)\n",
    "        img = self.transforms(img)\n",
    "        product_id = self.imlist['product_id'][index]\n",
    "        return img, product_id\n",
    "\n",
    "    def __len__(self):\n",
    "        return len(self.imlist)"
   ]
  },
  {
   "cell_type": "code",
   "execution_count": 10,
   "id": "9d26ae04",
   "metadata": {
    "execution": {
     "iopub.execute_input": "2023-10-19T07:02:08.412210Z",
     "iopub.status.busy": "2023-10-19T07:02:08.411886Z",
     "iopub.status.idle": "2023-10-19T07:02:08.417834Z",
     "shell.execute_reply": "2023-10-19T07:02:08.417149Z"
    },
    "papermill": {
     "duration": 0.014794,
     "end_time": "2023-10-19T07:02:08.419470",
     "exception": false,
     "start_time": "2023-10-19T07:02:08.404676",
     "status": "completed"
    },
    "tags": []
   },
   "outputs": [],
   "source": [
    "def get_transform():  \n",
    "    transform = T.Compose([\n",
    "            T.Resize(\n",
    "                size=(224, 224), \n",
    "                interpolation=T.InterpolationMode.BICUBIC,\n",
    "                antialias=True),\n",
    "            T.ToTensor(), \n",
    "            T.Normalize(\n",
    "                mean=(0.48145466, 0.4578275, 0.40821073), \n",
    "                std=(0.26862954, 0.26130258, 0.27577711)\n",
    "            )\n",
    "        ])\n",
    "    return transform\n",
    "\n",
    "@th.no_grad()\n",
    "def get_feature_vector(model, dataloader, use_cuda=True):\n",
    "    features = []\n",
    "    product_id = []\n",
    "    \n",
    "    for imgs, p_id in tqdm(dataloader):\n",
    "        if use_cuda:\n",
    "            imgs = imgs.cuda()\n",
    "        features.append(th.squeeze(model(imgs.half())).detach().cpu().numpy().astype(np.float32))\n",
    "        product_id.append(th.squeeze(p_id).detach().cpu().numpy())\n",
    "\n",
    "    return np.concatenate(features, axis=0), np.concatenate(product_id)"
   ]
  },
  {
   "cell_type": "markdown",
   "id": "dce79014",
   "metadata": {
    "papermill": {
     "duration": 0.00614,
     "end_time": "2023-10-19T07:02:08.431804",
     "exception": false,
     "start_time": "2023-10-19T07:02:08.425664",
     "status": "completed"
    },
    "tags": []
   },
   "source": [
    "# Getting the CLIP model's embedding"
   ]
  },
  {
   "cell_type": "code",
   "execution_count": 11,
   "id": "b61349a1",
   "metadata": {
    "execution": {
     "iopub.execute_input": "2023-10-19T07:02:08.444804Z",
     "iopub.status.busy": "2023-10-19T07:02:08.444264Z",
     "iopub.status.idle": "2023-10-19T07:02:08.448539Z",
     "shell.execute_reply": "2023-10-19T07:02:08.447744Z"
    },
    "papermill": {
     "duration": 0.012429,
     "end_time": "2023-10-19T07:02:08.450160",
     "exception": false,
     "start_time": "2023-10-19T07:02:08.437731",
     "status": "completed"
    },
    "tags": []
   },
   "outputs": [],
   "source": [
    "weights_path = '/kaggle/input/vit-h-14-final-weights/model_weights.pt'"
   ]
  },
  {
   "cell_type": "code",
   "execution_count": 12,
   "id": "9bc5a475",
   "metadata": {
    "execution": {
     "iopub.execute_input": "2023-10-19T07:02:08.463752Z",
     "iopub.status.busy": "2023-10-19T07:02:08.463262Z",
     "iopub.status.idle": "2023-10-19T07:02:34.599755Z",
     "shell.execute_reply": "2023-10-19T07:02:34.598848Z"
    },
    "papermill": {
     "duration": 26.145422,
     "end_time": "2023-10-19T07:02:34.601957",
     "exception": false,
     "start_time": "2023-10-19T07:02:08.456535",
     "status": "completed"
    },
    "tags": []
   },
   "outputs": [
    {
     "data": {
      "text/plain": [
       "VisionTransformer(\n",
       "  (patchnorm_pre_ln): Identity()\n",
       "  (conv1): Conv2d(3, 1280, kernel_size=(14, 14), stride=(14, 14), bias=False)\n",
       "  (patch_dropout): Identity()\n",
       "  (ln_pre): LayerNorm((1280,), eps=1e-05, elementwise_affine=True)\n",
       "  (transformer): Transformer(\n",
       "    (resblocks): ModuleList(\n",
       "      (0-31): 32 x ResidualAttentionBlock(\n",
       "        (ln_1): LayerNorm((1280,), eps=1e-05, elementwise_affine=True)\n",
       "        (attn): MultiheadAttention(\n",
       "          (out_proj): NonDynamicallyQuantizableLinear(in_features=1280, out_features=1280, bias=True)\n",
       "        )\n",
       "        (ls_1): Identity()\n",
       "        (ln_2): LayerNorm((1280,), eps=1e-05, elementwise_affine=True)\n",
       "        (mlp): Sequential(\n",
       "          (c_fc): Linear(in_features=1280, out_features=5120, bias=True)\n",
       "          (gelu): GELU(approximate='none')\n",
       "          (c_proj): Linear(in_features=5120, out_features=1280, bias=True)\n",
       "        )\n",
       "        (ls_2): Identity()\n",
       "      )\n",
       "    )\n",
       "  )\n",
       "  (ln_post): LayerNorm((1280,), eps=1e-05, elementwise_affine=True)\n",
       ")"
      ]
     },
     "execution_count": 12,
     "metadata": {},
     "output_type": "execute_result"
    }
   ],
   "source": [
    "vit_backbone = open_clip.create_model_and_transforms('ViT-H-14', None)[0].visual\n",
    "vit_backbone.load_state_dict(th.load(weights_path))\n",
    "vit_backbone.half()   # Apply half precision to the backbone model\n",
    "vit_backbone.eval()   # Dropping unecessary layers\n",
    "model = vit_backbone\n",
    "model.cuda()"
   ]
  },
  {
   "cell_type": "code",
   "execution_count": 13,
   "id": "cce49c12",
   "metadata": {
    "execution": {
     "iopub.execute_input": "2023-10-19T07:02:34.617126Z",
     "iopub.status.busy": "2023-10-19T07:02:34.616828Z",
     "iopub.status.idle": "2023-10-19T07:02:34.620532Z",
     "shell.execute_reply": "2023-10-19T07:02:34.619842Z"
    },
    "papermill": {
     "duration": 0.013141,
     "end_time": "2023-10-19T07:02:34.622297",
     "exception": false,
     "start_time": "2023-10-19T07:02:34.609156",
     "status": "completed"
    },
    "tags": []
   },
   "outputs": [],
   "source": [
    "# import torch\n",
    "# # Specify the path for the binary file\n",
    "# binary_file_path = \"/kaggle/working/model.bin\"\n",
    "\n",
    "# # Save the model's state dictionary to the binary file\n",
    "# torch.save(model, binary_file_path)"
   ]
  },
  {
   "cell_type": "code",
   "execution_count": 14,
   "id": "a0d7aecd",
   "metadata": {
    "execution": {
     "iopub.execute_input": "2023-10-19T07:02:34.636989Z",
     "iopub.status.busy": "2023-10-19T07:02:34.636373Z",
     "iopub.status.idle": "2023-10-19T07:02:34.640446Z",
     "shell.execute_reply": "2023-10-19T07:02:34.639620Z"
    },
    "papermill": {
     "duration": 0.013438,
     "end_time": "2023-10-19T07:02:34.642193",
     "exception": false,
     "start_time": "2023-10-19T07:02:34.628755",
     "status": "completed"
    },
    "tags": []
   },
   "outputs": [],
   "source": [
    "# import zipfile\n",
    "# import os\n",
    "\n",
    "# def zip_folder(folder_path, zip_filename):\n",
    "#     with zipfile.ZipFile(zip_filename, 'w', zipfile.ZIP_DEFLATED) as zipf:\n",
    "#         for root, _, files in os.walk(folder_path):\n",
    "#             for file in files:\n",
    "#                 file_path = os.path.join(root, file)\n",
    "#                 arcname = os.path.relpath(file_path, folder_path)\n",
    "#                 zipf.write(file_path, arcname)\n",
    "\n",
    "# # Replace 'your_folder_path' with the actual path to the folder you want to zip\n",
    "# folder_to_zip = '/kaggle/working'\n",
    "# output_zip_path = 'VIT-H-14.zip'\n",
    "\n",
    "# zip_folder(folder_to_zip, output_zip_path)\n",
    "\n",
    "# from IPython.display import FileLink\n",
    "\n",
    "# # Display a download link for the zip file\n",
    "# FileLink(output_zip_path)"
   ]
  },
  {
   "cell_type": "code",
   "execution_count": 15,
   "id": "025821dc",
   "metadata": {
    "execution": {
     "iopub.execute_input": "2023-10-19T07:02:34.656024Z",
     "iopub.status.busy": "2023-10-19T07:02:34.655759Z",
     "iopub.status.idle": "2023-10-19T07:02:34.659301Z",
     "shell.execute_reply": "2023-10-19T07:02:34.658539Z"
    },
    "papermill": {
     "duration": 0.012284,
     "end_time": "2023-10-19T07:02:34.660963",
     "exception": false,
     "start_time": "2023-10-19T07:02:34.648679",
     "status": "completed"
    },
    "tags": []
   },
   "outputs": [],
   "source": [
    "# !rm model1.pt"
   ]
  },
  {
   "cell_type": "code",
   "execution_count": 16,
   "id": "7b2b0081",
   "metadata": {
    "execution": {
     "iopub.execute_input": "2023-10-19T07:02:34.674936Z",
     "iopub.status.busy": "2023-10-19T07:02:34.674666Z",
     "iopub.status.idle": "2023-10-19T07:02:34.726754Z",
     "shell.execute_reply": "2023-10-19T07:02:34.726084Z"
    },
    "papermill": {
     "duration": 0.060995,
     "end_time": "2023-10-19T07:02:34.728527",
     "exception": false,
     "start_time": "2023-10-19T07:02:34.667532",
     "status": "completed"
    },
    "tags": []
   },
   "outputs": [],
   "source": [
    "transform = get_transform()\n",
    "\n",
    "img_dir = \"/kaggle/input/vprtestdata/public_dataset/\"\n",
    "\n",
    "dataset_train = SubmissionDataset(img_dir, os.path.join(img_dir, \"gallery.csv\"), transform)\n",
    "dataloader_train = DataLoader(dataset_train, batch_size=512, num_workers=4)\n",
    "dataset_test = SubmissionDataset(img_dir, os.path.join(img_dir, \"queries.csv\"), transform, with_bbox=True)\n",
    "dataloader_test = DataLoader(dataset_test, batch_size=512, num_workers=4)"
   ]
  },
  {
   "cell_type": "code",
   "execution_count": 17,
   "id": "657eca17",
   "metadata": {
    "execution": {
     "iopub.execute_input": "2023-10-19T07:02:34.743088Z",
     "iopub.status.busy": "2023-10-19T07:02:34.742816Z",
     "iopub.status.idle": "2023-10-19T07:02:34.747003Z",
     "shell.execute_reply": "2023-10-19T07:02:34.746295Z"
    },
    "papermill": {
     "duration": 0.012968,
     "end_time": "2023-10-19T07:02:34.748627",
     "exception": false,
     "start_time": "2023-10-19T07:02:34.735659",
     "status": "completed"
    },
    "tags": []
   },
   "outputs": [],
   "source": [
    "# def predict(model):\n",
    "#     global feature_vectors_gallery, labels_gallery\n",
    "    \n",
    "#     feature_vectors_gallery, labels_gallery = get_feature_vector(model, dataloader_train, 1)\n",
    "#     feature_vectors_query, labels_query = get_feature_vector(model, dataloader_test, 1)\n",
    "    \n",
    "#     # Get the 5 best matching product indices\n",
    "#     scores, indices = get_similiarity_l2(feature_vectors_gallery, feature_vectors_query, 5)\n",
    "#     indices = indices.tolist()\n",
    "# #     print('indices', len(indices))\n",
    "#     labels_gallery = labels_gallery.tolist()\n",
    "#     labels_query = labels_query.tolist()\n",
    "    \n",
    "#     # Define the weights for the weighted average\n",
    "#     weights = [0.65, 0.3 , 0.1, 0.1, 0.1, 0.1]\n",
    "\n",
    "#     # Compute the weighted average of the query and the 5 matches embeddings\n",
    "    \n",
    "#     features = []\n",
    "#     for i, feature_vector in enumerate(feature_vectors_query):\n",
    "# #         print('feature vector', feature_vector.shape)\n",
    "#         weighted_average_query = feature_vector * weights[0]\n",
    "# #         print('weighted_average_query vector', weighted_average_query.shape)\n",
    "#         indices_query = indices[i]\n",
    "# #         print(indices)\n",
    "#         for i, idx in enumerate(indices_query):\n",
    "#             weighted_average_query += feature_vectors_gallery[idx] * weights[i + 1]\n",
    "#         features.append(weighted_average_query)\n",
    "# #     print(len(features))\n",
    "\n",
    "#     # Calculate the similarity between the new query and all gallery embeddings\n",
    "#     scores, indices = get_similiarity_l2(feature_vectors_gallery, features, 1000)\n",
    "#     indices = indices.tolist()\n",
    "\n",
    "#     return indices"
   ]
  },
  {
   "cell_type": "code",
   "execution_count": 18,
   "id": "f5a7b42d",
   "metadata": {
    "execution": {
     "iopub.execute_input": "2023-10-19T07:02:34.762122Z",
     "iopub.status.busy": "2023-10-19T07:02:34.761896Z",
     "iopub.status.idle": "2023-10-19T07:02:34.768722Z",
     "shell.execute_reply": "2023-10-19T07:02:34.768044Z"
    },
    "papermill": {
     "duration": 0.015509,
     "end_time": "2023-10-19T07:02:34.770371",
     "exception": false,
     "start_time": "2023-10-19T07:02:34.754862",
     "status": "completed"
    },
    "tags": []
   },
   "outputs": [],
   "source": [
    "weights = [\n",
    "[0.4, 0.3 , 0.2, 0.1, 0, 0],\n",
    "[0.4, 0.35 , 0.25, 0.1, 0, 0],\n",
    "[0.4, 0.35 , 0.2, 0.05, 0, 0],\n",
    "[0.4, 0.3 , 0.25, 0.05, 0, 0],\n",
    "[0.4, 0.4 , 0.2, 0, 0, 0],\n",
    "[0.45, 0.25 , 0.2, 0.2, 0, 0],\n",
    "[0.45, 0.3 , 0.2, 0.1, 0, 0],\n",
    "[0.45, 0.35 , 0.2, 0, 0, 0],\n",
    "[0.45, 0.25 , 0.2, 0.05, 0, 0],\n",
    "[0.45, 0.3 , 0.2, 0, 0, 0],\n",
    "[0.5, 0.2 , 0.2, 0.1, 0, 0],\n",
    "[0.5, 0.25 , 0.1, 0.15, 0, 0],\n",
    "[0.5, 0.3 , 0.15, 0.05, 0, 0],\n",
    "[0.5, 0.35 , 0.15, 0, 0, 0],\n",
    "[0.5, 0.3 , 0.1, 0.1, 0, 0],\n",
    "[0.5, 0.3 , 0.2, 0.1, 0, 0],\n",
    "[0.55, 0.15 , 0.05, 0, 0, 0],\n",
    "[0.55, 0.20 , 0.1, 0, 0, 0],\n",
    "[0.55, 0.25 , 0.15, 0, 0, 0],\n",
    "[0.55, 0.3 , 0.2, 0, 0, 0],\n",
    "[0.55, 0.35 , 0.1, 0, 0, 0],\n",
    "[0.6, 0.3 , 0.2, 0, 0, 0],\n",
    "[0.6, 0.35 , 0.2, 0, 0, 0],\n",
    "[0.6, 0.20 , 0.2, 0, 0, 0],\n",
    "[0.6, 0.25 , 0.2, 0, 0, 0],\n",
    "[0.6, 0.15 , 0.2, 0, 0, 0]\n",
    "]"
   ]
  },
  {
   "cell_type": "code",
   "execution_count": 19,
   "id": "e2a72a09",
   "metadata": {
    "execution": {
     "iopub.execute_input": "2023-10-19T07:02:34.784397Z",
     "iopub.status.busy": "2023-10-19T07:02:34.783725Z",
     "iopub.status.idle": "2023-10-19T07:02:34.790011Z",
     "shell.execute_reply": "2023-10-19T07:02:34.789208Z"
    },
    "papermill": {
     "duration": 0.015049,
     "end_time": "2023-10-19T07:02:34.791689",
     "exception": false,
     "start_time": "2023-10-19T07:02:34.776640",
     "status": "completed"
    },
    "tags": []
   },
   "outputs": [],
   "source": [
    "def predict(model, weight):\n",
    "    global feature_vectors_gallery, labels_gallery\n",
    "    \n",
    "    feature_vectors_gallery, labels_gallery = get_feature_vector(model, dataloader_train, 1)\n",
    "    feature_vectors_query, labels_query = get_feature_vector(model, dataloader_test, 1)\n",
    "    \n",
    "#     feature_vectors_query, feature_vectors_gallery = db_augmentation(feature_vectors_query, feature_vectors_gallery, top_k=10)\n",
    "#     feature_vectors_query, feature_vectors_gallery = average_query_expansion(feature_vectors_query, feature_vectors_gallery, top_k=5)\n",
    "    \n",
    "    scores, indices = get_similiarity_l2(feature_vectors_gallery, feature_vectors_query, 5)\n",
    "\n",
    "    indices = indices.tolist()\n",
    "    labels_gallery = labels_gallery.tolist()\n",
    "    labels_query = labels_query.tolist()\n",
    "    \n",
    "        # Define the weights for the weighted average\n",
    "    weights = weight\n",
    "\n",
    "    # Compute the weighted average of the query and the 5 matches embeddings\n",
    "    \n",
    "    features = []\n",
    "    for i, feature_vector in enumerate(feature_vectors_query):\n",
    "#         print('feature vector', feature_vector.shape)\n",
    "        weighted_average_query = feature_vector * weights[0]\n",
    "#         print('weighted_average_query vector', weighted_average_query.shape)\n",
    "        indices_query = indices[i]\n",
    "#         print(indices)\n",
    "        for i, idx in enumerate(indices_query):\n",
    "            weighted_average_query += feature_vectors_gallery[idx] * weights[i + 1]\n",
    "        features.append(weighted_average_query)\n",
    "#     print(len(features))\n",
    "\n",
    "    # Calculate the similarity between the new query and all gallery embeddings\n",
    "    scores, indices = get_similiarity_l2(feature_vectors_gallery, features, 1000)\n",
    "    indices = indices.tolist()\n",
    "\n",
    "    return indices"
   ]
  },
  {
   "cell_type": "code",
   "execution_count": 20,
   "id": "9817197c",
   "metadata": {
    "execution": {
     "iopub.execute_input": "2023-10-19T07:02:34.805658Z",
     "iopub.status.busy": "2023-10-19T07:02:34.805364Z",
     "iopub.status.idle": "2023-10-19T07:02:34.808671Z",
     "shell.execute_reply": "2023-10-19T07:02:34.807951Z"
    },
    "papermill": {
     "duration": 0.012174,
     "end_time": "2023-10-19T07:02:34.810342",
     "exception": false,
     "start_time": "2023-10-19T07:02:34.798168",
     "status": "completed"
    },
    "tags": []
   },
   "outputs": [],
   "source": [
    "# preds = predict(model)\n",
    "\n",
    "# preds_df = pd.DataFrame(preds)\n",
    "# preds_df.to_csv('preds.csv', index=False)"
   ]
  },
  {
   "cell_type": "code",
   "execution_count": 21,
   "id": "27f7214a",
   "metadata": {
    "execution": {
     "iopub.execute_input": "2023-10-19T07:02:34.824268Z",
     "iopub.status.busy": "2023-10-19T07:02:34.823618Z",
     "iopub.status.idle": "2023-10-19T07:02:34.827062Z",
     "shell.execute_reply": "2023-10-19T07:02:34.826355Z"
    },
    "papermill": {
     "duration": 0.011727,
     "end_time": "2023-10-19T07:02:34.828597",
     "exception": false,
     "start_time": "2023-10-19T07:02:34.816870",
     "status": "completed"
    },
    "tags": []
   },
   "outputs": [],
   "source": [
    "# preds"
   ]
  },
  {
   "cell_type": "code",
   "execution_count": 22,
   "id": "d6c09105",
   "metadata": {
    "execution": {
     "iopub.execute_input": "2023-10-19T07:02:34.842056Z",
     "iopub.status.busy": "2023-10-19T07:02:34.841778Z",
     "iopub.status.idle": "2023-10-19T07:02:34.845121Z",
     "shell.execute_reply": "2023-10-19T07:02:34.844351Z"
    },
    "papermill": {
     "duration": 0.011653,
     "end_time": "2023-10-19T07:02:34.846639",
     "exception": false,
     "start_time": "2023-10-19T07:02:34.834986",
     "status": "completed"
    },
    "tags": []
   },
   "outputs": [],
   "source": [
    "# preds_df.head()"
   ]
  },
  {
   "cell_type": "code",
   "execution_count": 23,
   "id": "6f91c03b",
   "metadata": {
    "execution": {
     "iopub.execute_input": "2023-10-19T07:02:34.859810Z",
     "iopub.status.busy": "2023-10-19T07:02:34.859573Z",
     "iopub.status.idle": "2023-10-19T07:02:34.876148Z",
     "shell.execute_reply": "2023-10-19T07:02:34.875573Z"
    },
    "papermill": {
     "duration": 0.025258,
     "end_time": "2023-10-19T07:02:34.877976",
     "exception": false,
     "start_time": "2023-10-19T07:02:34.852718",
     "status": "completed"
    },
    "tags": []
   },
   "outputs": [],
   "source": [
    "seller_gt = pd.read_csv('/kaggle/input/vprtestdata/public_dataset/gallery.csv')\n",
    "gallery_labels = seller_gt['product_id'].values\n",
    "user_gt = pd.read_csv('/kaggle/input/vprtestdata/public_dataset/queries.csv')\n",
    "query_labels = user_gt['product_id'].values\n",
    "\n",
    "# # Evalaute metrics\n",
    "# print(\"Evaluation Results\")\n",
    "# results = {\"mAP\": calculate_map(np.array(preds), query_labels, gallery_labels)}\n",
    "# print(results)"
   ]
  },
  {
   "cell_type": "code",
   "execution_count": 24,
   "id": "6f88568e",
   "metadata": {
    "execution": {
     "iopub.execute_input": "2023-10-19T07:02:34.892201Z",
     "iopub.status.busy": "2023-10-19T07:02:34.891956Z",
     "iopub.status.idle": "2023-10-19T07:51:26.298141Z",
     "shell.execute_reply": "2023-10-19T07:51:26.296983Z"
    },
    "papermill": {
     "duration": 2931.414966,
     "end_time": "2023-10-19T07:51:26.299717",
     "exception": false,
     "start_time": "2023-10-19T07:02:34.884751",
     "status": "completed"
    },
    "tags": []
   },
   "outputs": [
    {
     "name": "stderr",
     "output_type": "stream",
     "text": [
      "100%|██████████| 3/3 [00:47<00:00, 15.99s/it]\n",
      "100%|██████████| 4/4 [01:09<00:00, 17.40s/it]\n"
     ]
    },
    {
     "name": "stdout",
     "output_type": "stream",
     "text": [
      "Processing indices...\n",
      "Finished processing indices, took 2.94952392578125s\n",
      "Processing indices...\n",
      "Finished processing indices, took 2.9748902320861816s\n",
      "Weight [0.4, 0.3, 0.2, 0.1, 0, 0]\n"
     ]
    },
    {
     "name": "stderr",
     "output_type": "stream",
     "text": [
      "100%|██████████| 1935/1935 [00:00<00:00, 6462.73it/s]\n"
     ]
    },
    {
     "name": "stdout",
     "output_type": "stream",
     "text": [
      "{'mAP': 0.6045218741718739}\n",
      "-------------------------------------------------\n"
     ]
    },
    {
     "name": "stderr",
     "output_type": "stream",
     "text": [
      "100%|██████████| 3/3 [00:38<00:00, 12.84s/it]\n",
      "100%|██████████| 4/4 [01:08<00:00, 17.08s/it]\n"
     ]
    },
    {
     "name": "stdout",
     "output_type": "stream",
     "text": [
      "Processing indices...\n",
      "Finished processing indices, took 2.938340663909912s\n",
      "Processing indices...\n",
      "Finished processing indices, took 2.947313070297241s\n",
      "Weight [0.4, 0.35, 0.25, 0.1, 0, 0]\n"
     ]
    },
    {
     "name": "stderr",
     "output_type": "stream",
     "text": [
      "100%|██████████| 1935/1935 [00:00<00:00, 6020.78it/s]\n"
     ]
    },
    {
     "name": "stdout",
     "output_type": "stream",
     "text": [
      "{'mAP': 0.6038118617916606}\n",
      "-------------------------------------------------\n"
     ]
    },
    {
     "name": "stderr",
     "output_type": "stream",
     "text": [
      "100%|██████████| 3/3 [00:38<00:00, 12.73s/it]\n",
      "100%|██████████| 4/4 [01:08<00:00, 17.08s/it]\n"
     ]
    },
    {
     "name": "stdout",
     "output_type": "stream",
     "text": [
      "Processing indices...\n",
      "Finished processing indices, took 2.9311864376068115s\n",
      "Processing indices...\n",
      "Finished processing indices, took 2.9205121994018555s\n",
      "Weight [0.4, 0.35, 0.2, 0.05, 0, 0]\n"
     ]
    },
    {
     "name": "stderr",
     "output_type": "stream",
     "text": [
      "100%|██████████| 1935/1935 [00:00<00:00, 6365.45it/s]\n"
     ]
    },
    {
     "name": "stdout",
     "output_type": "stream",
     "text": [
      "{'mAP': 0.6040107452184569}\n",
      "-------------------------------------------------\n"
     ]
    },
    {
     "name": "stderr",
     "output_type": "stream",
     "text": [
      "100%|██████████| 3/3 [00:37<00:00, 12.64s/it]\n",
      "100%|██████████| 4/4 [01:08<00:00, 17.07s/it]\n"
     ]
    },
    {
     "name": "stdout",
     "output_type": "stream",
     "text": [
      "Processing indices...\n",
      "Finished processing indices, took 2.8531553745269775s\n",
      "Processing indices...\n",
      "Finished processing indices, took 2.8658077716827393s\n",
      "Weight [0.4, 0.3, 0.25, 0.05, 0, 0]\n"
     ]
    },
    {
     "name": "stderr",
     "output_type": "stream",
     "text": [
      "100%|██████████| 1935/1935 [00:00<00:00, 5771.08it/s]\n"
     ]
    },
    {
     "name": "stdout",
     "output_type": "stream",
     "text": [
      "{'mAP': 0.6033824846073769}\n",
      "-------------------------------------------------\n"
     ]
    },
    {
     "name": "stderr",
     "output_type": "stream",
     "text": [
      "100%|██████████| 3/3 [00:37<00:00, 12.64s/it]\n",
      "100%|██████████| 4/4 [01:07<00:00, 16.98s/it]\n"
     ]
    },
    {
     "name": "stdout",
     "output_type": "stream",
     "text": [
      "Processing indices...\n",
      "Finished processing indices, took 2.8188915252685547s\n",
      "Processing indices...\n",
      "Finished processing indices, took 2.835369825363159s\n",
      "Weight [0.4, 0.4, 0.2, 0, 0, 0]\n"
     ]
    },
    {
     "name": "stderr",
     "output_type": "stream",
     "text": [
      "100%|██████████| 1935/1935 [00:00<00:00, 5615.47it/s]\n"
     ]
    },
    {
     "name": "stdout",
     "output_type": "stream",
     "text": [
      "{'mAP': 0.6027924934406045}\n",
      "-------------------------------------------------\n"
     ]
    },
    {
     "name": "stderr",
     "output_type": "stream",
     "text": [
      "100%|██████████| 3/3 [00:38<00:00, 12.68s/it]\n",
      "100%|██████████| 4/4 [01:08<00:00, 17.07s/it]\n"
     ]
    },
    {
     "name": "stdout",
     "output_type": "stream",
     "text": [
      "Processing indices...\n",
      "Finished processing indices, took 2.982189893722534s\n",
      "Processing indices...\n",
      "Finished processing indices, took 2.898707628250122s\n",
      "Weight [0.45, 0.25, 0.2, 0.2, 0, 0]\n"
     ]
    },
    {
     "name": "stderr",
     "output_type": "stream",
     "text": [
      "100%|██████████| 1935/1935 [00:00<00:00, 6402.58it/s]\n"
     ]
    },
    {
     "name": "stdout",
     "output_type": "stream",
     "text": [
      "{'mAP': 0.5923824043015554}\n",
      "-------------------------------------------------\n"
     ]
    },
    {
     "name": "stderr",
     "output_type": "stream",
     "text": [
      "100%|██████████| 3/3 [00:37<00:00, 12.44s/it]\n",
      "100%|██████████| 4/4 [01:08<00:00, 17.03s/it]\n"
     ]
    },
    {
     "name": "stdout",
     "output_type": "stream",
     "text": [
      "Processing indices...\n",
      "Finished processing indices, took 2.8487679958343506s\n",
      "Processing indices...\n",
      "Finished processing indices, took 2.854048252105713s\n",
      "Weight [0.45, 0.3, 0.2, 0.1, 0, 0]\n"
     ]
    },
    {
     "name": "stderr",
     "output_type": "stream",
     "text": [
      "100%|██████████| 1935/1935 [00:00<00:00, 6493.22it/s]\n"
     ]
    },
    {
     "name": "stdout",
     "output_type": "stream",
     "text": [
      "{'mAP': 0.6043721649176341}\n",
      "-------------------------------------------------\n"
     ]
    },
    {
     "name": "stderr",
     "output_type": "stream",
     "text": [
      "100%|██████████| 3/3 [00:38<00:00, 12.69s/it]\n",
      "100%|██████████| 4/4 [01:07<00:00, 17.00s/it]\n"
     ]
    },
    {
     "name": "stdout",
     "output_type": "stream",
     "text": [
      "Processing indices...\n",
      "Finished processing indices, took 2.888758659362793s\n",
      "Processing indices...\n",
      "Finished processing indices, took 2.821896553039551s\n",
      "Weight [0.45, 0.35, 0.2, 0, 0, 0]\n"
     ]
    },
    {
     "name": "stderr",
     "output_type": "stream",
     "text": [
      "100%|██████████| 1935/1935 [00:00<00:00, 6400.42it/s]\n"
     ]
    },
    {
     "name": "stdout",
     "output_type": "stream",
     "text": [
      "{'mAP': 0.6028637575338822}\n",
      "-------------------------------------------------\n"
     ]
    },
    {
     "name": "stderr",
     "output_type": "stream",
     "text": [
      "100%|██████████| 3/3 [00:37<00:00, 12.54s/it]\n",
      "100%|██████████| 4/4 [01:08<00:00, 17.02s/it]\n"
     ]
    },
    {
     "name": "stdout",
     "output_type": "stream",
     "text": [
      "Processing indices...\n",
      "Finished processing indices, took 2.961576223373413s\n",
      "Processing indices...\n",
      "Finished processing indices, took 2.828976631164551s\n",
      "Weight [0.45, 0.25, 0.2, 0.05, 0, 0]\n"
     ]
    },
    {
     "name": "stderr",
     "output_type": "stream",
     "text": [
      "100%|██████████| 1935/1935 [00:00<00:00, 5756.66it/s]\n"
     ]
    },
    {
     "name": "stdout",
     "output_type": "stream",
     "text": [
      "{'mAP': 0.6032172822825221}\n",
      "-------------------------------------------------\n"
     ]
    },
    {
     "name": "stderr",
     "output_type": "stream",
     "text": [
      "100%|██████████| 3/3 [00:37<00:00, 12.56s/it]\n",
      "100%|██████████| 4/4 [01:07<00:00, 16.97s/it]\n"
     ]
    },
    {
     "name": "stdout",
     "output_type": "stream",
     "text": [
      "Processing indices...\n",
      "Finished processing indices, took 2.8672678470611572s\n",
      "Processing indices...\n",
      "Finished processing indices, took 2.915783405303955s\n",
      "Weight [0.45, 0.3, 0.2, 0, 0, 0]\n"
     ]
    },
    {
     "name": "stderr",
     "output_type": "stream",
     "text": [
      "100%|██████████| 1935/1935 [00:00<00:00, 6409.90it/s]\n"
     ]
    },
    {
     "name": "stdout",
     "output_type": "stream",
     "text": [
      "{'mAP': 0.602653430324567}\n",
      "-------------------------------------------------\n"
     ]
    },
    {
     "name": "stderr",
     "output_type": "stream",
     "text": [
      "100%|██████████| 3/3 [00:37<00:00, 12.62s/it]\n",
      "100%|██████████| 4/4 [01:08<00:00, 17.06s/it]\n"
     ]
    },
    {
     "name": "stdout",
     "output_type": "stream",
     "text": [
      "Processing indices...\n",
      "Finished processing indices, took 2.966022253036499s\n",
      "Processing indices...\n",
      "Finished processing indices, took 2.8405048847198486s\n",
      "Weight [0.5, 0.2, 0.2, 0.1, 0, 0]\n"
     ]
    },
    {
     "name": "stderr",
     "output_type": "stream",
     "text": [
      "100%|██████████| 1935/1935 [00:00<00:00, 6545.08it/s]\n"
     ]
    },
    {
     "name": "stdout",
     "output_type": "stream",
     "text": [
      "{'mAP': 0.5989062371046886}\n",
      "-------------------------------------------------\n"
     ]
    },
    {
     "name": "stderr",
     "output_type": "stream",
     "text": [
      "100%|██████████| 3/3 [00:37<00:00, 12.50s/it]\n",
      "100%|██████████| 4/4 [01:07<00:00, 16.97s/it]\n"
     ]
    },
    {
     "name": "stdout",
     "output_type": "stream",
     "text": [
      "Processing indices...\n",
      "Finished processing indices, took 2.982510566711426s\n",
      "Processing indices...\n",
      "Finished processing indices, took 2.8076601028442383s\n",
      "Weight [0.5, 0.25, 0.1, 0.15, 0, 0]\n"
     ]
    },
    {
     "name": "stderr",
     "output_type": "stream",
     "text": [
      "100%|██████████| 1935/1935 [00:00<00:00, 6564.39it/s]\n"
     ]
    },
    {
     "name": "stdout",
     "output_type": "stream",
     "text": [
      "{'mAP': 0.6044249427396454}\n",
      "-------------------------------------------------\n"
     ]
    },
    {
     "name": "stderr",
     "output_type": "stream",
     "text": [
      "100%|██████████| 3/3 [00:38<00:00, 12.71s/it]\n",
      "100%|██████████| 4/4 [01:08<00:00, 17.02s/it]\n"
     ]
    },
    {
     "name": "stdout",
     "output_type": "stream",
     "text": [
      "Processing indices...\n",
      "Finished processing indices, took 2.929777145385742s\n",
      "Processing indices...\n",
      "Finished processing indices, took 2.9070475101470947s\n",
      "Weight [0.5, 0.3, 0.15, 0.05, 0, 0]\n"
     ]
    },
    {
     "name": "stderr",
     "output_type": "stream",
     "text": [
      "100%|██████████| 1935/1935 [00:00<00:00, 6390.41it/s]\n"
     ]
    },
    {
     "name": "stdout",
     "output_type": "stream",
     "text": [
      "{'mAP': 0.6055001440072608}\n",
      "-------------------------------------------------\n"
     ]
    },
    {
     "name": "stderr",
     "output_type": "stream",
     "text": [
      "100%|██████████| 3/3 [00:37<00:00, 12.48s/it]\n",
      "100%|██████████| 4/4 [01:08<00:00, 17.03s/it]\n"
     ]
    },
    {
     "name": "stdout",
     "output_type": "stream",
     "text": [
      "Processing indices...\n",
      "Finished processing indices, took 2.8882954120635986s\n",
      "Processing indices...\n",
      "Finished processing indices, took 2.8525032997131348s\n",
      "Weight [0.5, 0.35, 0.15, 0, 0, 0]\n"
     ]
    },
    {
     "name": "stderr",
     "output_type": "stream",
     "text": [
      "100%|██████████| 1935/1935 [00:00<00:00, 6565.53it/s]\n"
     ]
    },
    {
     "name": "stdout",
     "output_type": "stream",
     "text": [
      "{'mAP': 0.6049055673775682}\n",
      "-------------------------------------------------\n"
     ]
    },
    {
     "name": "stderr",
     "output_type": "stream",
     "text": [
      "100%|██████████| 3/3 [00:37<00:00, 12.58s/it]\n",
      "100%|██████████| 4/4 [01:07<00:00, 16.97s/it]\n"
     ]
    },
    {
     "name": "stdout",
     "output_type": "stream",
     "text": [
      "Processing indices...\n",
      "Finished processing indices, took 2.9596312046051025s\n",
      "Processing indices...\n",
      "Finished processing indices, took 2.9123005867004395s\n",
      "Weight [0.5, 0.3, 0.1, 0.1, 0, 0]\n"
     ]
    },
    {
     "name": "stderr",
     "output_type": "stream",
     "text": [
      "100%|██████████| 1935/1935 [00:00<00:00, 6355.25it/s]\n"
     ]
    },
    {
     "name": "stdout",
     "output_type": "stream",
     "text": [
      "{'mAP': 0.6056548553990753}\n",
      "-------------------------------------------------\n"
     ]
    },
    {
     "name": "stderr",
     "output_type": "stream",
     "text": [
      "100%|██████████| 3/3 [00:37<00:00, 12.58s/it]\n",
      "100%|██████████| 4/4 [01:08<00:00, 17.01s/it]\n"
     ]
    },
    {
     "name": "stdout",
     "output_type": "stream",
     "text": [
      "Processing indices...\n",
      "Finished processing indices, took 2.9478657245635986s\n",
      "Processing indices...\n",
      "Finished processing indices, took 2.8915302753448486s\n",
      "Weight [0.5, 0.3, 0.2, 0.1, 0, 0]\n"
     ]
    },
    {
     "name": "stderr",
     "output_type": "stream",
     "text": [
      "100%|██████████| 1935/1935 [00:00<00:00, 6328.99it/s]\n"
     ]
    },
    {
     "name": "stdout",
     "output_type": "stream",
     "text": [
      "{'mAP': 0.6044396691723639}\n",
      "-------------------------------------------------\n"
     ]
    },
    {
     "name": "stderr",
     "output_type": "stream",
     "text": [
      "100%|██████████| 3/3 [00:37<00:00, 12.42s/it]\n",
      "100%|██████████| 4/4 [01:07<00:00, 16.97s/it]\n"
     ]
    },
    {
     "name": "stdout",
     "output_type": "stream",
     "text": [
      "Processing indices...\n",
      "Finished processing indices, took 2.9452836513519287s\n",
      "Processing indices...\n",
      "Finished processing indices, took 2.8713014125823975s\n",
      "Weight [0.55, 0.15, 0.05, 0, 0, 0]\n"
     ]
    },
    {
     "name": "stderr",
     "output_type": "stream",
     "text": [
      "100%|██████████| 1935/1935 [00:00<00:00, 6557.42it/s]\n"
     ]
    },
    {
     "name": "stdout",
     "output_type": "stream",
     "text": [
      "{'mAP': 0.6037437021935648}\n",
      "-------------------------------------------------\n"
     ]
    },
    {
     "name": "stderr",
     "output_type": "stream",
     "text": [
      "100%|██████████| 3/3 [00:37<00:00, 12.64s/it]\n",
      "100%|██████████| 4/4 [01:08<00:00, 17.04s/it]\n"
     ]
    },
    {
     "name": "stdout",
     "output_type": "stream",
     "text": [
      "Processing indices...\n",
      "Finished processing indices, took 2.8608312606811523s\n",
      "Processing indices...\n",
      "Finished processing indices, took 2.7867438793182373s\n",
      "Weight [0.55, 0.2, 0.1, 0, 0, 0]\n"
     ]
    },
    {
     "name": "stderr",
     "output_type": "stream",
     "text": [
      "100%|██████████| 1935/1935 [00:00<00:00, 6549.38it/s]\n"
     ]
    },
    {
     "name": "stdout",
     "output_type": "stream",
     "text": [
      "{'mAP': 0.6054125055668484}\n",
      "-------------------------------------------------\n"
     ]
    },
    {
     "name": "stderr",
     "output_type": "stream",
     "text": [
      "100%|██████████| 3/3 [00:37<00:00, 12.50s/it]\n",
      "100%|██████████| 4/4 [01:08<00:00, 17.02s/it]\n"
     ]
    },
    {
     "name": "stdout",
     "output_type": "stream",
     "text": [
      "Processing indices...\n",
      "Finished processing indices, took 2.8540329933166504s\n",
      "Processing indices...\n",
      "Finished processing indices, took 2.860482692718506s\n",
      "Weight [0.55, 0.25, 0.15, 0, 0, 0]\n"
     ]
    },
    {
     "name": "stderr",
     "output_type": "stream",
     "text": [
      "100%|██████████| 1935/1935 [00:00<00:00, 6166.45it/s]\n"
     ]
    },
    {
     "name": "stdout",
     "output_type": "stream",
     "text": [
      "{'mAP': 0.6038943576779356}\n",
      "-------------------------------------------------\n"
     ]
    },
    {
     "name": "stderr",
     "output_type": "stream",
     "text": [
      "100%|██████████| 3/3 [00:37<00:00, 12.58s/it]\n",
      "100%|██████████| 4/4 [01:07<00:00, 16.88s/it]\n"
     ]
    },
    {
     "name": "stdout",
     "output_type": "stream",
     "text": [
      "Processing indices...\n",
      "Finished processing indices, took 2.772670269012451s\n",
      "Processing indices...\n",
      "Finished processing indices, took 2.823319673538208s\n",
      "Weight [0.55, 0.3, 0.2, 0, 0, 0]\n"
     ]
    },
    {
     "name": "stderr",
     "output_type": "stream",
     "text": [
      "100%|██████████| 1935/1935 [00:00<00:00, 6361.84it/s]\n"
     ]
    },
    {
     "name": "stdout",
     "output_type": "stream",
     "text": [
      "{'mAP': 0.6042011226934456}\n",
      "-------------------------------------------------\n"
     ]
    },
    {
     "name": "stderr",
     "output_type": "stream",
     "text": [
      "100%|██████████| 3/3 [00:37<00:00, 12.46s/it]\n",
      "100%|██████████| 4/4 [01:07<00:00, 17.00s/it]\n"
     ]
    },
    {
     "name": "stdout",
     "output_type": "stream",
     "text": [
      "Processing indices...\n",
      "Finished processing indices, took 2.9460806846618652s\n",
      "Processing indices...\n",
      "Finished processing indices, took 2.9678432941436768s\n",
      "Weight [0.55, 0.35, 0.1, 0, 0, 0]\n"
     ]
    },
    {
     "name": "stderr",
     "output_type": "stream",
     "text": [
      "100%|██████████| 1935/1935 [00:00<00:00, 6320.57it/s]\n"
     ]
    },
    {
     "name": "stdout",
     "output_type": "stream",
     "text": [
      "{'mAP': 0.6052008412109251}\n",
      "-------------------------------------------------\n"
     ]
    },
    {
     "name": "stderr",
     "output_type": "stream",
     "text": [
      "100%|██████████| 3/3 [00:37<00:00, 12.54s/it]\n",
      "100%|██████████| 4/4 [01:08<00:00, 17.01s/it]\n"
     ]
    },
    {
     "name": "stdout",
     "output_type": "stream",
     "text": [
      "Processing indices...\n",
      "Finished processing indices, took 2.8105149269104004s\n",
      "Processing indices...\n",
      "Finished processing indices, took 2.8881683349609375s\n",
      "Weight [0.6, 0.3, 0.2, 0, 0, 0]\n"
     ]
    },
    {
     "name": "stderr",
     "output_type": "stream",
     "text": [
      "100%|██████████| 1935/1935 [00:00<00:00, 6373.52it/s]\n"
     ]
    },
    {
     "name": "stdout",
     "output_type": "stream",
     "text": [
      "{'mAP': 0.6053579957678343}\n",
      "-------------------------------------------------\n"
     ]
    },
    {
     "name": "stderr",
     "output_type": "stream",
     "text": [
      "100%|██████████| 3/3 [00:37<00:00, 12.55s/it]\n",
      "100%|██████████| 4/4 [01:08<00:00, 17.07s/it]\n"
     ]
    },
    {
     "name": "stdout",
     "output_type": "stream",
     "text": [
      "Processing indices...\n",
      "Finished processing indices, took 3.0005788803100586s\n",
      "Processing indices...\n",
      "Finished processing indices, took 2.887998580932617s\n",
      "Weight [0.6, 0.35, 0.2, 0, 0, 0]\n"
     ]
    },
    {
     "name": "stderr",
     "output_type": "stream",
     "text": [
      "100%|██████████| 1935/1935 [00:00<00:00, 6517.74it/s]\n"
     ]
    },
    {
     "name": "stdout",
     "output_type": "stream",
     "text": [
      "{'mAP': 0.6043762219974166}\n",
      "-------------------------------------------------\n"
     ]
    },
    {
     "name": "stderr",
     "output_type": "stream",
     "text": [
      "100%|██████████| 3/3 [00:37<00:00, 12.52s/it]\n",
      "100%|██████████| 4/4 [01:07<00:00, 16.97s/it]\n"
     ]
    },
    {
     "name": "stdout",
     "output_type": "stream",
     "text": [
      "Processing indices...\n",
      "Finished processing indices, took 2.8746376037597656s\n",
      "Processing indices...\n",
      "Finished processing indices, took 2.8731868267059326s\n",
      "Weight [0.6, 0.2, 0.2, 0, 0, 0]\n"
     ]
    },
    {
     "name": "stderr",
     "output_type": "stream",
     "text": [
      "100%|██████████| 1935/1935 [00:00<00:00, 6008.95it/s]\n"
     ]
    },
    {
     "name": "stdout",
     "output_type": "stream",
     "text": [
      "{'mAP': 0.6047025735298716}\n",
      "-------------------------------------------------\n"
     ]
    },
    {
     "name": "stderr",
     "output_type": "stream",
     "text": [
      "100%|██████████| 3/3 [00:37<00:00, 12.58s/it]\n",
      "100%|██████████| 4/4 [01:07<00:00, 16.97s/it]\n"
     ]
    },
    {
     "name": "stdout",
     "output_type": "stream",
     "text": [
      "Processing indices...\n",
      "Finished processing indices, took 2.9281368255615234s\n",
      "Processing indices...\n",
      "Finished processing indices, took 2.922896146774292s\n",
      "Weight [0.6, 0.25, 0.2, 0, 0, 0]\n"
     ]
    },
    {
     "name": "stderr",
     "output_type": "stream",
     "text": [
      "100%|██████████| 1935/1935 [00:00<00:00, 6065.00it/s]\n"
     ]
    },
    {
     "name": "stdout",
     "output_type": "stream",
     "text": [
      "{'mAP': 0.6055401956309567}\n",
      "-------------------------------------------------\n"
     ]
    },
    {
     "name": "stderr",
     "output_type": "stream",
     "text": [
      "100%|██████████| 3/3 [00:37<00:00, 12.55s/it]\n",
      "100%|██████████| 4/4 [01:08<00:00, 17.08s/it]\n"
     ]
    },
    {
     "name": "stdout",
     "output_type": "stream",
     "text": [
      "Processing indices...\n",
      "Finished processing indices, took 2.8954994678497314s\n",
      "Processing indices...\n",
      "Finished processing indices, took 2.919609785079956s\n",
      "Weight [0.6, 0.15, 0.2, 0, 0, 0]\n"
     ]
    },
    {
     "name": "stderr",
     "output_type": "stream",
     "text": [
      "100%|██████████| 1935/1935 [00:00<00:00, 6402.54it/s]"
     ]
    },
    {
     "name": "stdout",
     "output_type": "stream",
     "text": [
      "{'mAP': 0.5933886271791328}\n",
      "-------------------------------------------------\n"
     ]
    },
    {
     "name": "stderr",
     "output_type": "stream",
     "text": [
      "\n"
     ]
    }
   ],
   "source": [
    "for weight in weights:\n",
    "    preds = predict(model, weight)\n",
    "    print(\"Weight\", weight)\n",
    "    results = {\"mAP\": calculate_map(np.array(preds), query_labels, gallery_labels)}\n",
    "    print(results)\n",
    "    print('-------------------------------------------------')"
   ]
  },
  {
   "cell_type": "code",
   "execution_count": 25,
   "id": "88efca24",
   "metadata": {
    "execution": {
     "iopub.execute_input": "2023-10-19T07:51:26.362034Z",
     "iopub.status.busy": "2023-10-19T07:51:26.361321Z",
     "iopub.status.idle": "2023-10-19T07:51:26.365853Z",
     "shell.execute_reply": "2023-10-19T07:51:26.365046Z"
    },
    "papermill": {
     "duration": 0.036872,
     "end_time": "2023-10-19T07:51:26.367411",
     "exception": false,
     "start_time": "2023-10-19T07:51:26.330539",
     "status": "completed"
    },
    "tags": []
   },
   "outputs": [],
   "source": [
    "# normal mAP = {'mAP': 0.6076191768389487}\n",
    "\n",
    "# db_augmentation = {'mAP': 0.6057361533665884}\n",
    "\n",
    "# with only query AWQ = {'mAP': 0.6057361533665884}\n",
    "\n",
    "# weights = [0.4, 0.2, 0.1, 0.1, 0.1, 0.1]\n",
    "# {'mAP': 0.5953972874661622}\n",
    "\n",
    "# weights = [0.5, 0.2, 0.1, 0.1, 0.1, 0.1]\n",
    "# {'mAP': 0.5986392800555753}\n",
    "\n",
    "# weights = [0.6, 0.2, 0.1, 0.1, 0.1, 0.1]\n",
    "# {'mAP': 0.6002180796285603}\n",
    "\n",
    "# weights = [0.7, 0.2, 0.1, 0.1, 0.1, 0.1]\n",
    "# {'mAP': 0.601189472498224}\n",
    "\n",
    "# weights = [0.7, 0.3 , 0.1, 0.1, 0.1, 0.1]\n",
    "# {'mAP': 0.6057971805514993}\n",
    "\n",
    "# weights = [0.7, 0.3 , 0.2, 0.1, 0.1, 0.1]\n",
    "# {'mAP': 0.6026055615146477}\n",
    "\n",
    "# weights = [0.7, 0.4 , 0.1, 0.1, 0.1, 0.1]\n",
    "# {'mAP': 0.6042976589391011}\n",
    "\n",
    "# weights = [0.7, 0.35 , 0.1, 0.1, 0.1, 0.1]\n",
    "# {'mAP': 0.6043665158358905}\n",
    "\n",
    "# weights = [0.65, 0.3 , 0.1, 0.1, 0.1, 0.1]\n",
    "# 'mAP': 0.6051452262908571}\n",
    "\n",
    "# weights = [0.65, 0.3 , 0.1, 0.1, 0, 0]\n",
    "# {'mAP': 0.6065329259732295}\n",
    "\n",
    "# weights = [0.65, 0.3 , 0.1, 0, 0, 0]\n",
    "# {'mAP': 0.6064506837973526}\n",
    "\n",
    "# weights = [0.65, 0.4 , 0.1, 0, 0, 0]\n",
    "# {'mAP': 0.6065735465000247"
   ]
  },
  {
   "cell_type": "markdown",
   "id": "e5759f7b",
   "metadata": {
    "papermill": {
     "duration": 0.029459,
     "end_time": "2023-10-19T07:51:26.426522",
     "exception": false,
     "start_time": "2023-10-19T07:51:26.397063",
     "status": "completed"
    },
    "tags": []
   },
   "source": []
  }
 ],
 "metadata": {
  "kernelspec": {
   "display_name": "Python 3",
   "language": "python",
   "name": "python3"
  },
  "language_info": {
   "codemirror_mode": {
    "name": "ipython",
    "version": 3
   },
   "file_extension": ".py",
   "mimetype": "text/x-python",
   "name": "python",
   "nbconvert_exporter": "python",
   "pygments_lexer": "ipython3",
   "version": "3.10.12"
  },
  "papermill": {
   "default_parameters": {},
   "duration": 2985.844124,
   "end_time": "2023-10-19T07:51:29.538786",
   "environment_variables": {},
   "exception": null,
   "input_path": "__notebook__.ipynb",
   "output_path": "__notebook__.ipynb",
   "parameters": {},
   "start_time": "2023-10-19T07:01:43.694662",
   "version": "2.4.0"
  }
 },
 "nbformat": 4,
 "nbformat_minor": 5
}
